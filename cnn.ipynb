{
 "cells": [
  {
   "cell_type": "code",
   "execution_count": 1,
   "id": "6f2fe064-57c0-4aeb-b144-49eadcbc76db",
   "metadata": {},
   "outputs": [
    {
     "name": "stdout",
     "output_type": "stream",
     "text": [
      "Defaulting to user installation because normal site-packages is not writeable\n",
      "Requirement already satisfied: pillow in c:\\programdata\\anaconda3\\lib\\site-packages (10.4.0)\n"
     ]
    }
   ],
   "source": [
    "import tensorflow as tf\n",
    "from tensorflow.keras.preprocessing.image import ImageDataGenerator\n",
    "# from keras.utils import image_dataset_from_directory\n",
    "import numpy as np\n",
    "\n",
    "# ChatGpt opinions\n",
    "# import tensorflow as tf\n",
    "from tensorflow import keras\n",
    "from tensorflow.keras import layers\n",
    "import pathlib\n",
    "!pip install pillow"
   ]
  },
  {
   "cell_type": "code",
   "execution_count": 2,
   "id": "d0a45aa4-88b2-41f1-b064-2b8c663ed4a0",
   "metadata": {},
   "outputs": [
    {
     "name": "stdout",
     "output_type": "stream",
     "text": [
      "C:\\ProgramData\\anaconda3\\python.exe\n"
     ]
    }
   ],
   "source": [
    "import sys\n",
    "print(sys.executable)"
   ]
  },
  {
   "cell_type": "code",
   "execution_count": 3,
   "id": "ec93849d-2a5e-4d2f-8411-52b06567c193",
   "metadata": {},
   "outputs": [
    {
     "name": "stdout",
     "output_type": "stream",
     "text": [
      "Name: pillow\n",
      "Version: 10.4.0\n",
      "Summary: Python Imaging Library (Fork)\n",
      "Home-page: https://python-pillow.org\n",
      "Author: \n",
      "Author-email: \"Jeffrey A. Clark\" <aclark@aclark.net>\n",
      "License: HPND\n",
      "Location: C:\\ProgramData\\anaconda3\\Lib\\site-packages\n",
      "Requires: \n",
      "Required-by: bokeh, datashader, imageio, matplotlib, scikit-image, streamlit, tensorboard\n"
     ]
    }
   ],
   "source": [
    "!{sys.executable} -m pip show pillow\n"
   ]
  },
  {
   "cell_type": "code",
   "execution_count": 4,
   "id": "cd6ac434-29ef-4763-a318-dcb56fcb92a4",
   "metadata": {
    "scrolled": true
   },
   "outputs": [],
   "source": [
    "# train_datagen = tf.keras.utils.image_dataset_from_directory(\n",
    "#     r\"C:\\Users\\USER\\OneDrive\\Desktop\\datasets\\dataset\\training_set\",\n",
    "#     image_size=(224, 224),\n",
    "#     batch_size=32\n",
    "# )\n",
    "\n",
    "# val_ds = tf.keras.utils.image_dataset_from_directory(\n",
    "#     r\"C:\\Users\\USER\\OneDrive\\Desktop\\datasets\\dataset\\training_set\",\n",
    "#     image_size=(224, 224),\n",
    "#     batch_size=32\n",
    "# )\n"
   ]
  },
  {
   "cell_type": "code",
   "execution_count": 5,
   "id": "399fef79-58c9-4b53-9ee2-9f2abc051100",
   "metadata": {
    "scrolled": true
   },
   "outputs": [
    {
     "name": "stdout",
     "output_type": "stream",
     "text": [
      "Found 8000 images belonging to 2 classes.\n"
     ]
    }
   ],
   "source": [
    "# Preprocessing the Train Set to avoid Overfitting\n",
    "train_datagen = ImageDataGenerator(\n",
    "    rescale = 1./255,\n",
    "    shear_range =0.2,\n",
    "    zoom_range = 0.2,\n",
    "    horizontal_flip =True)\n",
    "training_set = train_datagen.flow_from_directory(\n",
    "    r\"C:\\Users\\USER\\OneDrive\\Desktop\\datasets\\dataset\\training_set\",\n",
    "    target_size =(64,64),\n",
    "    batch_size = 32,\n",
    "    class_mode = 'binary')"
   ]
  },
  {
   "cell_type": "code",
   "execution_count": 6,
   "id": "83d4205b-d239-47ff-8550-884df6009b7c",
   "metadata": {},
   "outputs": [
    {
     "name": "stdout",
     "output_type": "stream",
     "text": [
      "Found 2000 images belonging to 2 classes.\n"
     ]
    }
   ],
   "source": [
    "# Preprocessing The Test Set\n",
    "test_datagen = ImageDataGenerator(rescale = 1./255)\n",
    "test_set = test_datagen.flow_from_directory(\n",
    "    r\"C:\\Users\\USER\\OneDrive\\Desktop\\datasets\\dataset\\test_set\",\n",
    "    target_size =(64,64),\n",
    "    batch_size = 32,\n",
    "    class_mode = 'binary')"
   ]
  },
  {
   "cell_type": "code",
   "execution_count": 7,
   "id": "039cbefe-d51b-47ca-9c5f-58155efa5088",
   "metadata": {},
   "outputs": [],
   "source": [
    "# Initialisng CNN\n",
    "cnn = tf.keras.Sequential()"
   ]
  },
  {
   "cell_type": "code",
   "execution_count": 8,
   "id": "3074be5d-3d97-4f45-bf7f-c999e1ca5b60",
   "metadata": {
    "scrolled": true
   },
   "outputs": [
    {
     "name": "stderr",
     "output_type": "stream",
     "text": [
      "C:\\Users\\USER\\AppData\\Roaming\\Python\\Python312\\site-packages\\keras\\src\\layers\\convolutional\\base_conv.py:113: UserWarning: Do not pass an `input_shape`/`input_dim` argument to a layer. When using Sequential models, prefer using an `Input(shape)` object as the first layer in the model instead.\n",
      "  super().__init__(activity_regularizer=activity_regularizer, **kwargs)\n"
     ]
    }
   ],
   "source": [
    "cnn.add(tf.keras.layers.Conv2D(filters=12,kernel_size=3,activation = 'relu',input_shape =[64,64,3]))"
   ]
  },
  {
   "cell_type": "code",
   "execution_count": 9,
   "id": "959f0747-115b-4903-90e6-612ed3ee4f96",
   "metadata": {},
   "outputs": [],
   "source": [
    "# Pooling\n",
    "cnn.add(tf.keras.layers.MaxPool2D(pool_size=2,strides=2,))"
   ]
  },
  {
   "cell_type": "code",
   "execution_count": 10,
   "id": "43f9ff30-db8d-46d7-bb71-e6cd4aed95d0",
   "metadata": {},
   "outputs": [],
   "source": [
    "# Adding Second Convolution Layer\n",
    "cnn.add(tf.keras.layers.Conv2D(filters=32,kernel_size=3,activation = 'relu'))\n",
    "cnn.add(tf.keras.layers.MaxPool2D(pool_size=2,strides=2,))"
   ]
  },
  {
   "cell_type": "code",
   "execution_count": 11,
   "id": "e2cb489b-619f-46fd-b969-e162e2b11dfc",
   "metadata": {},
   "outputs": [],
   "source": [
    "# Flattening\n",
    "cnn.add(tf.keras.layers.Flatten())"
   ]
  },
  {
   "cell_type": "code",
   "execution_count": 12,
   "id": "a8d4aa01-dd75-4a70-a4d2-7c6fc282addf",
   "metadata": {},
   "outputs": [],
   "source": [
    "# Full Connection\n",
    "cnn.add(tf.keras.layers.Dense(units =128,activation='relu'))"
   ]
  },
  {
   "cell_type": "code",
   "execution_count": 13,
   "id": "b48985d1-47fe-484e-a4ad-aa3ad3d0e2af",
   "metadata": {},
   "outputs": [],
   "source": [
    "# Output Layer\n",
    "cnn.add(tf.keras.layers.Dense(units =1,activation='sigmoid'))"
   ]
  },
  {
   "cell_type": "code",
   "execution_count": 14,
   "id": "87d2168a-d71d-4847-bea0-bda9dc913e93",
   "metadata": {},
   "outputs": [],
   "source": [
    "# Training The CNN"
   ]
  },
  {
   "cell_type": "code",
   "execution_count": 15,
   "id": "c8e69aa2-8058-4b30-b3e2-2aa51050b76d",
   "metadata": {},
   "outputs": [],
   "source": [
    "# Compiling The CNN\n",
    "cnn.compile(optimizer = 'adam',loss='binary_crossentropy', metrics= ['accuracy'])"
   ]
  },
  {
   "cell_type": "code",
   "execution_count": 16,
   "id": "ffa8f70d-05c9-4199-ad9d-67f8e25b6069",
   "metadata": {},
   "outputs": [
    {
     "name": "stderr",
     "output_type": "stream",
     "text": [
      "C:\\Users\\USER\\AppData\\Roaming\\Python\\Python312\\site-packages\\keras\\src\\trainers\\data_adapters\\py_dataset_adapter.py:121: UserWarning: Your `PyDataset` class should call `super().__init__(**kwargs)` in its constructor. `**kwargs` can include `workers`, `use_multiprocessing`, `max_queue_size`. Do not pass these arguments to `fit()`, as they will be ignored.\n",
      "  self._warn_if_super_not_called()\n"
     ]
    },
    {
     "name": "stdout",
     "output_type": "stream",
     "text": [
      "Epoch 1/10\n",
      "\u001b[1m250/250\u001b[0m \u001b[32m━━━━━━━━━━━━━━━━━━━━\u001b[0m\u001b[37m\u001b[0m \u001b[1m103s\u001b[0m 396ms/step - accuracy: 0.6039 - loss: 0.6582 - val_accuracy: 0.6630 - val_loss: 0.6191\n",
      "Epoch 2/10\n",
      "\u001b[1m250/250\u001b[0m \u001b[32m━━━━━━━━━━━━━━━━━━━━\u001b[0m\u001b[37m\u001b[0m \u001b[1m115s\u001b[0m 462ms/step - accuracy: 0.6750 - loss: 0.6013 - val_accuracy: 0.7105 - val_loss: 0.5840\n",
      "Epoch 3/10\n",
      "\u001b[1m250/250\u001b[0m \u001b[32m━━━━━━━━━━━━━━━━━━━━\u001b[0m\u001b[37m\u001b[0m \u001b[1m115s\u001b[0m 460ms/step - accuracy: 0.7104 - loss: 0.5645 - val_accuracy: 0.7105 - val_loss: 0.5750\n",
      "Epoch 4/10\n",
      "\u001b[1m250/250\u001b[0m \u001b[32m━━━━━━━━━━━━━━━━━━━━\u001b[0m\u001b[37m\u001b[0m \u001b[1m109s\u001b[0m 439ms/step - accuracy: 0.7324 - loss: 0.5353 - val_accuracy: 0.7390 - val_loss: 0.5463\n",
      "Epoch 5/10\n",
      "\u001b[1m250/250\u001b[0m \u001b[32m━━━━━━━━━━━━━━━━━━━━\u001b[0m\u001b[37m\u001b[0m \u001b[1m112s\u001b[0m 447ms/step - accuracy: 0.7546 - loss: 0.5098 - val_accuracy: 0.7470 - val_loss: 0.5189\n",
      "Epoch 6/10\n",
      "\u001b[1m250/250\u001b[0m \u001b[32m━━━━━━━━━━━━━━━━━━━━\u001b[0m\u001b[37m\u001b[0m \u001b[1m107s\u001b[0m 430ms/step - accuracy: 0.7599 - loss: 0.4886 - val_accuracy: 0.7555 - val_loss: 0.5176\n",
      "Epoch 7/10\n",
      "\u001b[1m250/250\u001b[0m \u001b[32m━━━━━━━━━━━━━━━━━━━━\u001b[0m\u001b[37m\u001b[0m \u001b[1m92s\u001b[0m 367ms/step - accuracy: 0.7751 - loss: 0.4715 - val_accuracy: 0.7255 - val_loss: 0.5519\n",
      "Epoch 8/10\n",
      "\u001b[1m250/250\u001b[0m \u001b[32m━━━━━━━━━━━━━━━━━━━━\u001b[0m\u001b[37m\u001b[0m \u001b[1m140s\u001b[0m 359ms/step - accuracy: 0.7814 - loss: 0.4571 - val_accuracy: 0.7415 - val_loss: 0.5416\n",
      "Epoch 9/10\n",
      "\u001b[1m250/250\u001b[0m \u001b[32m━━━━━━━━━━━━━━━━━━━━\u001b[0m\u001b[37m\u001b[0m \u001b[1m104s\u001b[0m 417ms/step - accuracy: 0.7930 - loss: 0.4424 - val_accuracy: 0.7735 - val_loss: 0.5101\n",
      "Epoch 10/10\n",
      "\u001b[1m250/250\u001b[0m \u001b[32m━━━━━━━━━━━━━━━━━━━━\u001b[0m\u001b[37m\u001b[0m \u001b[1m113s\u001b[0m 453ms/step - accuracy: 0.7977 - loss: 0.4280 - val_accuracy: 0.7825 - val_loss: 0.4947\n"
     ]
    },
    {
     "data": {
      "text/plain": [
       "<keras.src.callbacks.history.History at 0x2725d0247a0>"
      ]
     },
     "execution_count": 16,
     "metadata": {},
     "output_type": "execute_result"
    }
   ],
   "source": [
    "# Training The CNN On trainng set and Evaluating it on Test Set\n",
    "\n",
    "cnn.fit(x = training_set, validation_data = test_set, epochs=10)"
   ]
  },
  {
   "cell_type": "code",
   "execution_count": 17,
   "id": "5cb48197-84dc-46b6-a32b-82d76d6ca347",
   "metadata": {},
   "outputs": [
    {
     "name": "stdout",
     "output_type": "stream",
     "text": [
      "\u001b[1m1/1\u001b[0m \u001b[32m━━━━━━━━━━━━━━━━━━━━\u001b[0m\u001b[37m\u001b[0m \u001b[1m0s\u001b[0m 175ms/step\n",
      "Dog\n"
     ]
    }
   ],
   "source": [
    "# Making Single Prediction\n",
    "from keras.preprocessing import image\n",
    "test_image=image.load_img(r\"C:\\Users\\USER\\OneDrive\\Desktop\\pakar.jpeg\",target_size=(64,64,3))\n",
    "test_image= image.img_to_array(test_image)\n",
    "test_image = np.expand_dims(test_image,axis=0)\n",
    "result = cnn.predict(test_image)\n",
    "training_set.class_indices\n",
    "if result[0][0]==1:\n",
    "    prediction ='Dog'\n",
    "else:\n",
    "    prediction ='Cat'\n",
    "\n",
    "print(prediction)"
   ]
  },
  {
   "cell_type": "code",
   "execution_count": 18,
   "id": "ddae636b-8344-470b-8d26-033fad89ca0a",
   "metadata": {},
   "outputs": [],
   "source": [
    "# print(tf.config.list_physical_devices('GPU'))"
   ]
  },
  {
   "cell_type": "code",
   "execution_count": 19,
   "id": "4fc75b2c-cb17-4a59-a2cf-02df3448a2dd",
   "metadata": {},
   "outputs": [
    {
     "name": "stderr",
     "output_type": "stream",
     "text": [
      "WARNING:absl:You are saving your model as an HDF5 file via `model.save()` or `keras.saving.save_model(model)`. This file format is considered legacy. We recommend using instead the native Keras format, e.g. `model.save('my_model.keras')` or `keras.saving.save_model(model, 'my_model.keras')`. \n"
     ]
    },
    {
     "name": "stdout",
     "output_type": "stream",
     "text": [
      "Model saved as cnn_model.h5\n"
     ]
    }
   ],
   "source": [
    "# Saving the trained CNN model\n",
    "cnn.save('cnn_model.h5')\n",
    "print(\"Model saved as cnn_model.h5\")\n"
   ]
  },
  {
   "cell_type": "code",
   "execution_count": null,
   "id": "8df2e936-2f90-466e-8cf9-bc967bf13662",
   "metadata": {},
   "outputs": [],
   "source": []
  },
  {
   "cell_type": "code",
   "execution_count": null,
   "id": "4b01dc4a-f16a-4116-957e-5bd010f9740d",
   "metadata": {},
   "outputs": [],
   "source": []
  },
  {
   "cell_type": "code",
   "execution_count": 20,
   "id": "898461b7-00d6-4a48-9fe1-e91953ac2e59",
   "metadata": {},
   "outputs": [],
   "source": [
    "# The saved model"
   ]
  },
  {
   "cell_type": "code",
   "execution_count": 21,
   "id": "0380b21f-8b71-481c-85d1-2536c91ac678",
   "metadata": {},
   "outputs": [
    {
     "name": "stderr",
     "output_type": "stream",
     "text": [
      "WARNING:absl:Compiled the loaded model, but the compiled metrics have yet to be built. `model.compile_metrics` will be empty until you train or evaluate the model.\n"
     ]
    },
    {
     "name": "stdout",
     "output_type": "stream",
     "text": [
      "Model loaded successfully\n"
     ]
    }
   ],
   "source": [
    "from tensorflow.keras.models import load_model\n",
    "\n",
    "loaded_cnn = load_model('cnn_model.h5')\n",
    "print(\"Model loaded successfully\")\n"
   ]
  },
  {
   "cell_type": "code",
   "execution_count": 23,
   "id": "15e477a3-c7c2-4e46-8915-14828ae339f6",
   "metadata": {},
   "outputs": [
    {
     "name": "stdout",
     "output_type": "stream",
     "text": [
      "\u001b[1m1/1\u001b[0m \u001b[32m━━━━━━━━━━━━━━━━━━━━\u001b[0m\u001b[37m\u001b[0m \u001b[1m0s\u001b[0m 74ms/step\n",
      "Prediction: Cat\n"
     ]
    }
   ],
   "source": [
    "from keras.preprocessing import image\n",
    "import numpy as np\n",
    "\n",
    "# Load the image you want to predict\n",
    "test_image = image.load_img(r\"C:\\Users\\USER\\OneDrive\\Desktop\\pakaT.jpeg\", target_size=(64,64,3))\n",
    "test_image = image.img_to_array(test_image)\n",
    "test_image = np.expand_dims(test_image, axis=0)  # Add batch dimension\n",
    "\n",
    "# Predict using the loaded model\n",
    "result = loaded_cnn.predict(test_image)\n",
    "\n",
    "# Map the result to class\n",
    "if result[0][0] == 1:\n",
    "    prediction = 'Dog'\n",
    "else:\n",
    "    prediction = 'Cat'\n",
    "\n",
    "print(\"Prediction:\", prediction)\n"
   ]
  },
  {
   "cell_type": "code",
   "execution_count": null,
   "id": "8b82001c-24c6-4254-b5ac-4cd549d6a5a2",
   "metadata": {},
   "outputs": [],
   "source": []
  }
 ],
 "metadata": {
  "kernelspec": {
   "display_name": "Python 3 (ipykernel)",
   "language": "python",
   "name": "python3"
  },
  "language_info": {
   "codemirror_mode": {
    "name": "ipython",
    "version": 3
   },
   "file_extension": ".py",
   "mimetype": "text/x-python",
   "name": "python",
   "nbconvert_exporter": "python",
   "pygments_lexer": "ipython3",
   "version": "3.12.7"
  }
 },
 "nbformat": 4,
 "nbformat_minor": 5
}

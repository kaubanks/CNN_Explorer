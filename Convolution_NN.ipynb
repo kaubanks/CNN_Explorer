{
 "cells": [
  {
   "cell_type": "code",
   "execution_count": 1,
   "id": "968e7d84-9314-40a9-b376-29dda983218a",
   "metadata": {},
   "outputs": [
    {
     "ename": "SyntaxError",
     "evalue": "invalid syntax (1095143656.py, line 3)",
     "output_type": "error",
     "traceback": [
      "\u001b[1;36m  Cell \u001b[1;32mIn[1], line 3\u001b[1;36m\u001b[0m\n\u001b[1;33m    from keras.preprocessing.image import\u001b[0m\n\u001b[1;37m                                          ^\u001b[0m\n\u001b[1;31mSyntaxError\u001b[0m\u001b[1;31m:\u001b[0m invalid syntax\n"
     ]
    }
   ],
   "source": [
    "# Importing Libraries\n",
    "import tensorflow as tf\n",
    "from keras.preprocessing.image import "
   ]
  },
  {
   "cell_type": "code",
   "execution_count": null,
   "id": "845968d0-9613-4445-90bc-5fb0239fb2ed",
   "metadata": {},
   "outputs": [],
   "source": [
    "tf.__version__"
   ]
  },
  {
   "cell_type": "code",
   "execution_count": null,
   "id": "abcc17f1-6e2b-4e4b-bf42-818e21a03726",
   "metadata": {},
   "outputs": [],
   "source": [
    "# Preprocessing Training Set\n",
    "train_datagen = img_to_array(\n",
    "    rescale =1./255,\n",
    "    shear_range = 0.2,\n",
    "    zoom_range = 0.2,\n",
    "    horizontal_flip =True)"
   ]
  },
  {
   "cell_type": "code",
   "execution_count": null,
   "id": "74af8b8b-1441-4cf1-ae1e-1ed736538bcd",
   "metadata": {},
   "outputs": [],
   "source": [
    "# Preprocessing Test Set"
   ]
  },
  {
   "cell_type": "code",
   "execution_count": null,
   "id": "b7399bf6-12c1-4eb6-9bdc-5087b7b35172",
   "metadata": {},
   "outputs": [],
   "source": [
    "# Initialize CNN\n",
    "# Convolution"
   ]
  },
  {
   "cell_type": "code",
   "execution_count": null,
   "id": "8c45a13c-2ab7-45fe-a441-050a94c39d30",
   "metadata": {},
   "outputs": [],
   "source": [
    "# Pooling"
   ]
  },
  {
   "cell_type": "code",
   "execution_count": null,
   "id": "9a17236f-fefd-4817-974e-ba33b6bfc379",
   "metadata": {},
   "outputs": [],
   "source": [
    "# Adding Second Convolution Layer"
   ]
  },
  {
   "cell_type": "code",
   "execution_count": null,
   "id": "4613567b-5be0-4ce1-9aee-bdbafc80c512",
   "metadata": {},
   "outputs": [],
   "source": [
    "# Flattening"
   ]
  },
  {
   "cell_type": "code",
   "execution_count": null,
   "id": "368ceea4-5282-437f-ac08-82d7f49714d5",
   "metadata": {},
   "outputs": [],
   "source": [
    "# Full connection"
   ]
  },
  {
   "cell_type": "code",
   "execution_count": null,
   "id": "543c0df4-89b4-4407-8724-1cea298079fd",
   "metadata": {},
   "outputs": [],
   "source": [
    "# Output layer"
   ]
  },
  {
   "cell_type": "code",
   "execution_count": null,
   "id": "7fb6089b-2932-4ea7-a52f-7f3b119f0fec",
   "metadata": {},
   "outputs": [],
   "source": [
    "# Training the CNN\n",
    "# compiling CNN"
   ]
  },
  {
   "cell_type": "code",
   "execution_count": null,
   "id": "defaef03-aedd-499c-ad16-6a3c482a84ed",
   "metadata": {},
   "outputs": [],
   "source": [
    "# Training CNN on Training set and evaluating it on Test Set"
   ]
  },
  {
   "cell_type": "code",
   "execution_count": null,
   "id": "688cf0b1-fb22-4edb-b89a-4bc239a21b0c",
   "metadata": {},
   "outputs": [],
   "source": [
    "# Making  A Single Prediction"
   ]
  }
 ],
 "metadata": {
  "kernelspec": {
   "display_name": "Python 3 (ipykernel)",
   "language": "python",
   "name": "python3"
  },
  "language_info": {
   "codemirror_mode": {
    "name": "ipython",
    "version": 3
   },
   "file_extension": ".py",
   "mimetype": "text/x-python",
   "name": "python",
   "nbconvert_exporter": "python",
   "pygments_lexer": "ipython3",
   "version": "3.12.7"
  }
 },
 "nbformat": 4,
 "nbformat_minor": 5
}
